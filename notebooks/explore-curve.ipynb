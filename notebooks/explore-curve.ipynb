{
 "metadata": {
  "language_info": {
   "codemirror_mode": {
    "name": "ipython",
    "version": 3
   },
   "file_extension": ".py",
   "mimetype": "text/x-python",
   "name": "python",
   "nbconvert_exporter": "python",
   "pygments_lexer": "ipython3",
   "version": "3.8.5-final"
  },
  "orig_nbformat": 2,
  "kernelspec": {
   "name": "python3",
   "display_name": "Python 3"
  }
 },
 "nbformat": 4,
 "nbformat_minor": 2,
 "cells": [
  {
   "source": [
    "# How to make interactive charts.\n",
    "\n",
    "https://towardsdatascience.com/interactive-graphs-in-python-830b1e6c197f\n"
   ],
   "cell_type": "markdown",
   "metadata": {}
  },
  {
   "cell_type": "code",
   "execution_count": 59,
   "metadata": {},
   "outputs": [],
   "source": [
    "import math\n",
    "import numpy as np\n",
    "import matplotlib.pyplot as plt\n",
    "from matplotlib import figure\n",
    "from ipywidgets import interact, IntSlider, FloatSlider"
   ]
  },
  {
   "cell_type": "code",
   "execution_count": 2,
   "metadata": {},
   "outputs": [
    {
     "output_type": "display_data",
     "data": {
      "text/plain": "interactive(children=(IntSlider(value=1, description='c', max=3, min=-1), Output()), _dom_classes=('widget-int…",
      "application/vnd.jupyter.widget-view+json": {
       "version_major": 2,
       "version_minor": 0,
       "model_id": "264da477fcaf40d79678814f38d465f2"
      }
     },
     "metadata": {}
    }
   ],
   "source": [
    "@interact\n",
    "def sinewave(c = 1):\n",
    "    p = np.linspace(0, 2*math.pi, 100)\n",
    "    y = np.sin(p*c)\n",
    "\n",
    "    plt.plot(p, y)\n",
    "    plt.ylabel('sin(x)')\n",
    "    plt.xlabel('x')\n",
    "    plt.title('Sinwave function')\n",
    "    return plt.figure()"
   ]
  },
  {
   "source": [
    "# Uniswap invariant - 2 tokens"
   ],
   "cell_type": "markdown",
   "metadata": {}
  },
  {
   "source": [
    "To automatically market make, we must \"move\" the markt ourselves after each trade. Clearly, if someony buys token Y, then we have less of it, and so its price must go up. Same goes for token X"
   ],
   "cell_type": "markdown",
   "metadata": {}
  },
  {
   "source": [
    "To achieve this, we can use an invariant (in mathematical lingo, this means that this piece of truth always holds, no matter what)"
   ],
   "cell_type": "markdown",
   "metadata": {}
  },
  {
   "source": [
    "Such an invariant may be chosen to be"
   ],
   "cell_type": "markdown",
   "metadata": {}
  },
  {
   "source": [
    "$$xy = k \\ \\ \\ \\ x,y,k \\in \\mathbb{R^+}$$\n"
   ],
   "cell_type": "markdown",
   "metadata": {}
  },
  {
   "source": [
    "i.e. after we multiply the quantity of token X by the quantity of token Y, we will get some value. And this value we must hold constant after each trade."
   ],
   "cell_type": "markdown",
   "metadata": {}
  },
  {
   "source": [
    "Example\n",
    "\n",
    "- deposit 1 x and 2 y into the contract. This sets the initial exchange rate. i.e. for 1 x get 2 y, or equivalently, for 2 y get 1 x\n",
    "- in this case, we have that $k = 1 * 2 = 2$\n",
    "- someone wants X for 1 y. This is not a deposit, this is an exchange. Total quantity of Y is now 3, but we need to keep $k=2$. We can do that by giving them back $x = k / y$, $x = 2 / 3$, i.e. $0.\\dot{6}$ x"
   ],
   "cell_type": "markdown",
   "metadata": {}
  },
  {
   "cell_type": "code",
   "execution_count": 3,
   "metadata": {},
   "outputs": [],
   "source": [
    "class UniswapAmm:\n",
    "    # x and y are initial quantities of x and y that set the initial exchange rate\n",
    "    def __init__(self, x, y):\n",
    "        self.x = x\n",
    "        self.y = y\n",
    "        self.k = x * y\n",
    "\n",
    "    # you are a LP - liquidity provider\n",
    "    # the more liquidity - the lower the price slippage\n",
    "    def deposit(self, dx = 0, dy = 0):\n",
    "        if dx < 0: raise Exception(\"must be positive\")\n",
    "        if dy < 0: raise Exception(\"must be positive\")\n",
    "        # I don't know if exchange rate can change, probably\n",
    "        # since one needs to rebalance\n",
    "        # but for simplicity's sake, let's disallow that for now\n",
    "        if dx / dy != self.x / self.y: raise Exception(\"exchange rate is incorrect\")\n",
    "\n",
    "        self.x += dx\n",
    "        self.y += dy\n",
    "\n",
    "    # only minus args. You are either selling X or Y\n",
    "    def trade(self, x = 0, y = 0):\n",
    "        minus_x = -x\n",
    "        minus_y = -y\n",
    "\n",
    "        if minus_x > self.x: raise Exception(\"impossible\")\n",
    "        if minus_y > self.y: raise Exception(\"impossible\")\n",
    "        if minus_x > 0:\n",
    "            if minus_y > 0: raise Exception(\"impossible\")\n",
    "\n",
    "            new_x = self.x + minus_x\n",
    "            y_to_send = self.k / new_x\n",
    "            new_y = self.y - y_to_send\n",
    "\n",
    "            self.x = new_x\n",
    "            self.y = new_y\n"
   ]
  },
  {
   "source": [
    "Some questions we may ask ourselves\n",
    "\n",
    "- what is the slippage, for varying amounts of tokens bought?\n",
    "- how do we improve the slippage?\n",
    "- can this framework be as useful for stablecoins?\n"
   ],
   "cell_type": "markdown",
   "metadata": {}
  },
  {
   "source": [
    "# Curve StableSwap - Interpolation between the constant product and constant sum invariants"
   ],
   "cell_type": "markdown",
   "metadata": {}
  },
  {
   "source": [
    "Constant product invariant is the following"
   ],
   "cell_type": "markdown",
   "metadata": {}
  },
  {
   "source": [
    "$$\\prod_i x_i = \\left( \\frac{D}{n} \\right)^n$$"
   ],
   "cell_type": "markdown",
   "metadata": {}
  },
  {
   "source": [
    "$$x_i = \\left( \\frac{D}{n} \\right)^n / \\prod_{j, j \\neq i} x_j$$"
   ],
   "cell_type": "markdown",
   "metadata": {}
  },
  {
   "cell_type": "code",
   "execution_count": 68,
   "metadata": {},
   "outputs": [],
   "source": [
    "# qty of coin a, qty of coin b are the arguments\n",
    "def product_two_coins(coin_a = 3, coin_b = 3):\n",
    "    constant = ((coin_a + coin_b) / 2) ** 2\n",
    "    coin1 = np.linspace(0, 10, 100)\n",
    "    y = lambda s_xj: [constant / xj for xj in s_xj]\n",
    "    coin2 = y(coin1)\n",
    "\n",
    "    plt.plot(coin1, coin2)\n",
    "    plt.ylabel('Coin B ($)')\n",
    "    plt.xlabel('Coin A ($)')\n",
    "    plt.ylim([0, 10])\n",
    "    plt.xlim([0, 10])\n",
    "    plt.title(r'$\\prod_{i \\in \\{1, 2 \\}} x_i = (D / 2)^2$')\n",
    "    plt.figure()"
   ]
  },
  {
   "cell_type": "code",
   "execution_count": 69,
   "metadata": {},
   "outputs": [
    {
     "output_type": "display_data",
     "data": {
      "text/plain": "interactive(children=(IntSlider(value=3, description='coin_a', max=10, min=1), IntSlider(value=3, description=…",
      "application/vnd.jupyter.widget-view+json": {
       "version_major": 2,
       "version_minor": 0,
       "model_id": "d23911a7af6548f09c4a5ac3071666b3"
      }
     },
     "metadata": {}
    }
   ],
   "source": [
    "product_two_coins = interact(\n",
    "    product_two_coins,\n",
    "    coin_a=IntSlider(min=1, max=10, step=1, value=3),\n",
    "    coin_b=IntSlider(min=1, max=10, step=1, value=3)\n",
    ")"
   ]
  },
  {
   "source": [
    "Constant sum invariant is the following"
   ],
   "cell_type": "markdown",
   "metadata": {}
  },
  {
   "source": [
    "$$\\sum_i x_i = D$$"
   ],
   "cell_type": "markdown",
   "metadata": {}
  },
  {
   "cell_type": "code",
   "execution_count": 64,
   "metadata": {},
   "outputs": [],
   "source": [
    "def sum_two_coins(coin_a = 5, coin_b = 5):\n",
    "    constant = coin_a + coin_b\n",
    "    coin1 = np.linspace(0, 10, 100)\n",
    "    y = lambda s_xj: [constant - xj for xj in s_xj]\n",
    "    coin2 = y(coin1)\n",
    "\n",
    "    plt.plot(coin1, coin2)\n",
    "    plt.ylabel('Coin B ($)')\n",
    "    plt.xlabel('Coin A ($)')\n",
    "    plt.ylim([0, 10])\n",
    "    plt.xlim([0, 10])\n",
    "    plt.title(r'$\\sum_{i \\in \\{ 1,2\\}} x_i = D$')\n",
    "    plt.figure()"
   ]
  },
  {
   "cell_type": "code",
   "execution_count": 65,
   "metadata": {},
   "outputs": [
    {
     "output_type": "display_data",
     "data": {
      "text/plain": "interactive(children=(IntSlider(value=2, description='coin_a', max=10, min=1), IntSlider(value=2, description=…",
      "application/vnd.jupyter.widget-view+json": {
       "version_major": 2,
       "version_minor": 0,
       "model_id": "1809ac1662d443c98d14b252f1394e05"
      }
     },
     "metadata": {}
    }
   ],
   "source": [
    "sum_two_coins = interact(\n",
    "    sum_two_coins,\n",
    "    coin_a=IntSlider(min=1, max=10, step=1, value=2),\n",
    "    coin_b=IntSlider(min=1, max=10, step=1, value=2)\n",
    ")"
   ]
  },
  {
   "source": [
    "Now constant-sum is perfect for us, it is infinite leverage and so there is zero slippage, however, this is not feasible in the case of AMM, because we can't run out of inventory. As the stock of some coin approaches zero it must become prohibitively expensive to acquite it. To achieve this, we need our constant product involved here too. Constant product, on the other hand, is a framework of \"perfect slippage\", i.e. there is zero leverage. This means, that we need something in between, an interpolation of the two"
   ],
   "cell_type": "markdown",
   "metadata": {}
  },
  {
   "source": [
    "$$\\chi D^{n - 1} \\sum_i x_i + \\prod_i x_i = \\chi D^n + \\left( \\frac{D}{n} \\right)^n \\tag{1}$$"
   ],
   "cell_type": "markdown",
   "metadata": {}
  },
  {
   "source": [
    "where $\\chi$ is leverage"
   ],
   "cell_type": "markdown",
   "metadata": {}
  },
  {
   "source": [
    "notice that\n",
    "\n",
    "$$\\chi D^{n-1} \\sum_i x_i = \\chi D^{n-1} \\cdot D = \\chi D^n$$"
   ],
   "cell_type": "markdown",
   "metadata": {}
  },
  {
   "source": [
    "and that\n",
    "\n",
    "$$\\prod_i x_i = \\left( \\frac{D}{n} \\right)^n$$\n",
    "\n",
    "as before, and so equation $(1)$ holds, LHS = RHS"
   ],
   "cell_type": "markdown",
   "metadata": {}
  },
  {
   "source": [
    "Note also, that if leverage is zero, $\\tag{1}$ becomes a constant-product, the zero leverage, the Uniswap like AMM. However, when $\\chi$ (our leverage) is 1, we have a levered constant sum with a plain, nothing changed, constant product invariant.\n",
    "\n",
    "In fact,\n",
    "\n",
    "as soon as we set $\\chi = 1$ and subsequently increase it, we have that\n",
    "\n",
    "$$\\chi D^n \\geq \\left( \\frac{D}{n} \\right)^n, \\forall \\chi \\in \\mathbb{R}^+ \\ \\text{and} \\ \\chi  \\geq 1$$\n",
    "\n",
    "and this means that constant product invariant becomes less and less powerful very quickly"
   ],
   "cell_type": "markdown",
   "metadata": {}
  },
  {
   "source": [
    "let's see what this would look like"
   ],
   "cell_type": "markdown",
   "metadata": {}
  },
  {
   "source": [
    "$$\\chi D^{n - 1} \\sum_i x_i + \\prod_i x_i = \\chi D^n + \\left( \\frac{D}{n} \\right)^n \\tag{1}$$\n",
    "$$\\chi D^{n-1} x_i + \\chi D^{n-1} \\sum_{j, j \\neq i} x_j + \\prod_i x_i = \\chi D^n + \\left( \\frac{D}{n} \\right)^n$$\n",
    "$$\\chi D^{n-1} x_i + \\prod_i x_i = \\chi D^n + \\left( \\frac{D}{n} \\right)^n - \\chi D^{n-1} \\sum_{j, j \\neq i} x_j$$\n",
    "$$ x_i (\\chi D^{n-1} + \\prod_{j, j \\neq i} x_j) = \\chi D^n + \\left( \\frac{D}{n} \\right)^n - \\chi D^{n-1} \\sum_{j, j \\neq i} x_j$$\n",
    "$$ x_i \\frac{\\left(\\chi D^{n-1} + \\prod_{j, j \\neq i} x_j\\right)}{D^n} = \\chi + \\frac{1}{n^n} - \\frac{\\chi}{D} \\sum_{j, j \\neq i} x_j$$\n",
    "$$ x_i \\frac{\\left(\\chi D^{n-1} + \\prod_{j, j \\neq i} x_j\\right)}{D^n} = \\chi \\left( 1 - \\frac{1}{D} \\sum_{j, j \\neq i} x_j \\right) + \\frac{1}{n^n}$$\n",
    "$$ x_i = \\left(\\chi \\left( 1 - \\frac{1}{D} \\sum_{j, j \\neq i} x_j \\right) + \\frac{1}{n^n}\\right) \\div \\left( \\frac{\\left(\\chi D^{n-1} + \\prod_{j, j \\neq i} x_j\\right)}{D^n} \\right)$$"
   ],
   "cell_type": "markdown",
   "metadata": {}
  },
  {
   "cell_type": "code",
   "execution_count": 61,
   "metadata": {},
   "outputs": [],
   "source": [
    "def mod_two_coins(coin_a = 5, coin_b = 5, leverage = 0):\n",
    "    constant = coin_a + coin_b\n",
    "    coin1 = np.linspace(0, 10, 100)\n",
    "    y = lambda s_xj: [(leverage * (1 - xj / constant) + 1/4) / ((leverage * constant + xj) / (constant ** 2)) for xj in s_xj]\n",
    "    coin2 = y(coin1)\n",
    "\n",
    "    plt.plot(coin1, coin2)\n",
    "    plt.ylabel('Coin B')\n",
    "    plt.xlabel('Coin A')\n",
    "    plt.ylim([0, 10])\n",
    "    plt.xlim([0, 10])\n",
    "    plt.title(r'$\\chi D^{n - 1} \\sum_i x_i + \\prod_i x_i = \\chi D^n + \\left( \\frac{D}{n} \\right)^n$')\n",
    "    plt.figure()"
   ]
  },
  {
   "cell_type": "code",
   "execution_count": 63,
   "metadata": {},
   "outputs": [
    {
     "output_type": "display_data",
     "data": {
      "text/plain": "interactive(children=(IntSlider(value=2, description='coin_a', max=10, min=1), IntSlider(value=2, description=…",
      "application/vnd.jupyter.widget-view+json": {
       "version_major": 2,
       "version_minor": 0,
       "model_id": "5a43de5c54094ad8ad8daadf6f9b447d"
      }
     },
     "metadata": {}
    }
   ],
   "source": [
    "mod_two_coins = interact(\n",
    "    mod_two_coins,\n",
    "    coin_a=IntSlider(min=1, step=1, value=2, max=10),\n",
    "    coin_b=IntSlider(min=1, step=1, value=2, max=10),\n",
    "    leverage=FloatSlider(min=0, step=0.01, value=0, max=5)  # after some value, constant product vanishes\n",
    ")"
   ]
  },
  {
   "source": [
    "The above does not fully solve our problem, which is finding an effective invariant for stablecoins. It does not solve it effectively for a number of reasons. In constant product, for example, in the case of two coins, we have asymptotes along y and along x axes, and this ensures we always have inventory. When terms with $\\chi$ start to quickly overpower the constant-product, we get a pure constant-sum invariant.\n",
    "\n",
    "To remedy, let's make leverage dynamic. It would make sense that we have constant-sum as much as possible when the price is equal to 1, and even if move farther, we still should get low slippage, but as soon as we deplete our inventory, we must move to the constant product invariant, instead. Let's introduce the following dynamic definition of $\\chi$\n",
    "\n",
    "$$\\chi = \\frac{A \\prod x_i}{D / n^n} \\tag{2}$$"
   ],
   "cell_type": "markdown",
   "metadata": {}
  },
  {
   "source": [
    "Subbing this into our equation from before, we have"
   ],
   "cell_type": "markdown",
   "metadata": {}
  },
  {
   "source": [
    "$$A n^n \\sum x_i + D = ADn^n + \\frac{D^{n + 1}}{n^n \\prod x_i}$$"
   ],
   "cell_type": "markdown",
   "metadata": {}
  },
  {
   "cell_type": "code",
   "execution_count": null,
   "metadata": {},
   "outputs": [],
   "source": []
  },
  {
   "cell_type": "code",
   "execution_count": null,
   "metadata": {},
   "outputs": [],
   "source": []
  },
  {
   "cell_type": "code",
   "execution_count": null,
   "metadata": {},
   "outputs": [],
   "source": []
  }
 ]
}