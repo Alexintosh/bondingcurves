{
 "metadata": {
  "language_info": {
   "codemirror_mode": {
    "name": "ipython",
    "version": 3
   },
   "file_extension": ".py",
   "mimetype": "text/x-python",
   "name": "python",
   "nbconvert_exporter": "python",
   "pygments_lexer": "ipython3",
   "version": "3.9.0-final"
  },
  "orig_nbformat": 2,
  "kernelspec": {
   "name": "python3",
   "display_name": "Python 3.9.0 64-bit",
   "metadata": {
    "interpreter": {
     "hash": "5fcd2642978b16f6bbd7e7ad8d3dd4856b9ed7b9e5afb74471291183f56d1393"
    }
   }
  }
 },
 "nbformat": 4,
 "nbformat_minor": 2,
 "cells": [
  {
   "cell_type": "code",
   "execution_count": 1,
   "metadata": {},
   "outputs": [],
   "source": [
    "import math"
   ]
  },
  {
   "cell_type": "code",
   "execution_count": 4,
   "metadata": {},
   "outputs": [
    {
     "output_type": "execute_result",
     "data": {
      "text/plain": [
       "0.027784078187993697"
      ]
     },
     "metadata": {},
     "execution_count": 4
    }
   ],
   "source": [
    "### BNT --> LINK swap\n",
    "\n",
    "#return = _targetReserveBalance * (1 - (_sourceReserveBalance / (_sourceReserveBalance + _amount)) ^ (_sourceReserveWeight / _targetReserveWeight))\n",
    "\n",
    "_targetReserveBalance = 81322884266157133 #LINK Balance, https://ropsten.etherscan.io/address/0x676a5fc57f2b3cb363636061cd1baaa4ff6101a2#readContract Read Contract - reserveBalance\n",
    "_sourceReserveBalance = 19211060359273140896165 #BNT Balance, https://ropsten.etherscan.io/address/0x676a5fc57f2b3cb363636061cd1baaa4ff6101a2#readContract Read Contract - reserveBalance\n",
    "_sourceReserveWeight = 500000\n",
    "_targetReserveWeight = 500000\n",
    "_amount = 10000*10**18\n",
    "\n",
    "PPM_RESOLUTION = 1000000\n",
    "conversionFee = 2000 \n",
    "\n",
    "\n",
    "result = (_targetReserveBalance * (1 - (_sourceReserveBalance / (_sourceReserveBalance + _amount)) ** (_sourceReserveWeight / _targetReserveWeight)))\n",
    "fee = math.floor(result*conversionFee/PPM_RESOLUTION)\n",
    "\n",
    "final_result = (result - fee)/(10**18)\n",
    "final_result"
   ]
  },
  {
   "cell_type": "code",
   "execution_count": 3,
   "metadata": {},
   "outputs": [
    {
     "output_type": "execute_result",
     "data": {
      "text/plain": [
       "122.74808760161851"
      ]
     },
     "metadata": {},
     "execution_count": 3
    }
   ],
   "source": [
    "### ETH --> BNT swap\n",
    "\n",
    "\n",
    "#return = _targetReserveBalance * (1 - (_sourceReserveBalance / (_sourceReserveBalance + _amount)) ^ (_sourceReserveWeight / _targetReserveWeight))\n",
    "\n",
    "_targetReserveBalance = 231604114696014322559590 #BNT Balance, https://ropsten.etherscan.io/address/0xc83241bfcfe9a2cde5b98edc009420a6dc5ed241#readContract - Read Contract: ReserveBalances\n",
    "_sourceReserveBalance = 18839378031227283725 #ETH Balance, https://ropsten.etherscan.io/address/0xc83241bfcfe9a2cde5b98edc009420a6dc5ed241#readContract - Read Contract: ReserveBalances\n",
    "_sourceReserveWeight = 500000\n",
    "_targetReserveWeight = 500000\n",
    "_amount = 0.01*10**18\n",
    "\n",
    "PPM_RESOLUTION = 1000000\n",
    "conversionFee = 1000  \n",
    "\n",
    "\n",
    "result = (_targetReserveBalance * (1 - (_sourceReserveBalance / (_sourceReserveBalance + _amount)) ** (_sourceReserveWeight / _targetReserveWeight)))\n",
    "fee = math.floor(result*conversionFee/PPM_RESOLUTION)\n",
    "\n",
    "final_result = (result - fee)/(10**18)\n",
    "final_result"
   ]
  },
  {
   "cell_type": "code",
   "execution_count": 20,
   "metadata": {},
   "outputs": [
    {
     "output_type": "execute_result",
     "data": {
      "text/plain": [
       "2.9081163303812216e-15"
      ]
     },
     "metadata": {},
     "execution_count": 20
    }
   ],
   "source": [
    "### LINK --> USDC swap\n",
    "\n",
    "\n",
    "## SWAP 1: LINK --> BNT \n",
    "\n",
    "_targetReserveBalance_1 = 19211060359273140896165 \n",
    "_sourceReserveBalance_1 = 81322884266157133\n",
    "_sourceReserveWeight_1 = 500000\n",
    "_targetReserveWeight_1 = 500000\n",
    "_amount_1 = 0.0000001*10**18\n",
    "\n",
    "PPM_RESOLUTION_1 = 1000000\n",
    "conversionFee_1 = 2000   \n",
    "\n",
    "\n",
    "result_1 = (_targetReserveBalance_1 * (1 - (_sourceReserveBalance_1 / (_sourceReserveBalance_1 + _amount_1)) ** (_sourceReserveWeight_1 / _targetReserveWeight_1)))\n",
    "fee_1 = math.floor(result_1*conversionFee_1/PPM_RESOLUTION_1)\n",
    "\n",
    "final_result_1 = (result_1 - fee_1)/(10**18)\n",
    "\n",
    "\n",
    "##SWAP 2: BNT --> USDC\n",
    "\n",
    "_targetReserveBalance_2 = 1383186 #in case of USDC, multiply by 10**12\n",
    "_sourceReserveBalance_2 = 11170579372287629295\n",
    "_sourceReserveWeight_2 = 500000\n",
    "_targetReserveWeight_2 = 500000\n",
    "_amount_2 = final_result_1*10**18\n",
    "\n",
    "PPM_RESOLUTION_2 = 1000000\n",
    "conversionFee_2 = 2000   \n",
    "\n",
    "\n",
    "result_2 = (_targetReserveBalance_2 * (1 - (_sourceReserveBalance_2 / (_sourceReserveBalance_2 + _amount_2)) ** (_sourceReserveWeight_2 / _targetReserveWeight_2)))\n",
    "fee_2 = math.floor(result_2*conversionFee_2/PPM_RESOLUTION_2)\n",
    "\n",
    "final_result_2 = (result_2 - fee_2)/(10**18)\n",
    "final_result_2"
   ]
  }
 ]
}